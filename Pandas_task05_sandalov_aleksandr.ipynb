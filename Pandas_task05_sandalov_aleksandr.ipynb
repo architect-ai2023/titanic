{
 "cells": [
  {
   "cell_type": "markdown",
   "metadata": {
    "id": "RJi7vRroe6bH",
    "pycharm": {
     "name": "#%% md\n"
    }
   },
   "source": [
    "5. Домашнее задание по теме\n",
    "Pandas – продвинутый\n",
    "\n",
    "Формулировка задания:\n",
    "Необходимо загрузить и обработать предложенный датасет (Титаник), провести аналитику\n",
    "данных с помощью фреймворка Python Pandas.\n",
    "Планируемый результат:\n",
    "1. Датасет загружен в Colab\n",
    "2. В датасете отсутствуют пустые ячейки\n",
    "3. Представлена простая аналитика по датасету\n",
    "Описания плана работы:\n",
    "1. Создать новый ноутбук в Colab\n",
    "2. Сохранить датасет в Google диске и загрузить в ноутбук Colab\n",
    "https://www.kaggle.com/datasets/yasserh/titanic-dataset/code\n",
    "*Загрузить датасет по ссылке из интернета (репозитория Kaggle)\n",
    "3. Перечень и описание столбцов:\n",
    "Survived выжил (1-да, 0- нет)\n",
    "Pclass Класс круиза\n",
    "Name ФИО\n",
    "Sex Пол\n",
    "Age Возраст\n",
    "SibSp число братьев, сестер или супругов на борту у\n",
    "человека\n",
    "Parch количество родителей или детей, с которыми\n",
    "путешествовал каждый пассажир\n",
    "Ticket Номер билета\n",
    "Fare Цена билета\n",
    "Cabin Номер каюты\n",
    "Embarked Порт посадки\n",
    "4. Определить количество пустых ячеек\n",
    "5. *Заполнить пустые ячейки используя любую логику замещения данных\n",
    "6. Если пункт 5 не выполнен, то удалить строки имеющие пустые ячейки.\n",
    "7. По каждому признаку произвести аналитику:\n",
    "1. Количество уникальных значений\n",
    "2. Минимальное и максимальное значение\n",
    "8.*С помощью аналитики определить влияние всех признаков на признак Survived(\n",
    "выживание).\n",
    "Пример: Parch и SibSP отрицательно влияли на выживание при крушении , так как чем\n",
    "больше эти параметры тем ниже процент выживания (одиночке выжить проще).\n",
    "Результатом домашнего задания будет Таблица в Colab с комментариями в качестве\n",
    "ответов на пункты ДЗ.\n"
   ]
  },
  {
   "cell_type": "code",
   "execution_count": 1,
   "metadata": {
    "colab": {
     "base_uri": "https://localhost:8080/"
    },
    "id": "MADeze60fFeE",
    "outputId": "22a9d3db-5511-4543-bcfe-69626c8bc05f",
    "pycharm": {
     "name": "#%%\n",
     "is_executing": true
    },
    "ExecuteTime": {
     "end_time": "2023-08-02T04:40:58.622774200Z",
     "start_time": "2023-08-02T04:40:58.598752600Z"
    }
   },
   "outputs": [
    {
     "name": "stdout",
     "output_type": "stream",
     "text": [
      "Привет!\n"
     ]
    }
   ],
   "source": [
    "print('Привет!')"
   ]
  },
  {
   "cell_type": "code",
   "execution_count": null,
   "outputs": [],
   "source": [],
   "metadata": {
    "collapsed": false
   }
  }
 ],
 "metadata": {
  "colab": {
   "provenance": []
  },
  "kernelspec": {
   "name": "python3",
   "language": "python",
   "display_name": "Python 3 (ipykernel)"
  },
  "language_info": {
   "codemirror_mode": {
    "name": "ipython",
    "version": 3
   },
   "file_extension": ".py",
   "mimetype": "text/x-python",
   "name": "python",
   "nbconvert_exporter": "python",
   "pygments_lexer": "ipython3",
   "version": "3.10.7"
  }
 },
 "nbformat": 4,
 "nbformat_minor": 0
}
