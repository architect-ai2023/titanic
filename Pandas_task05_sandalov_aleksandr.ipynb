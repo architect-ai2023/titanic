{
 "cells": [
  {
   "cell_type": "markdown",
   "metadata": {
    "id": "RJi7vRroe6bH",
    "pycharm": {
     "name": "#%% md\n"
    }
   },
   "source": [
    "5. Домашнее задание по теме\n",
    "Pandas – продвинутый\n",
    "\n",
    "Формулировка задания:\n",
    "Необходимо загрузить и обработать предложенный датасет (Титаник), провести аналитику\n",
    "данных с помощью фреймворка Python Pandas.\n",
    "Планируемый результат:\n",
    "1. Датасет загружен в Colab\n",
    "2. В датасете отсутствуют пустые ячейки\n",
    "3. Представлена простая аналитика по датасету\n",
    "Описания плана работы:\n",
    "1. Создать новый ноутбук в Colab\n",
    "2. Сохранить датасет в Google диске и загрузить в ноутбук Colab\n",
    "https://www.kaggle.com/datasets/yasserh/titanic-dataset/code\n",
    "*Загрузить датасет по ссылке из интернета (репозитория Kaggle)\n",
    "3. Перечень и описание столбцов:\n",
    "Survived выжил (1-да, 0- нет)\n",
    "Pclass Класс круиза\n",
    "Name ФИО\n",
    "Sex Пол\n",
    "Age Возраст\n",
    "SibSp число братьев, сестер или супругов на борту у\n",
    "человека\n",
    "Parch количество родителей или детей, с которыми\n",
    "путешествовал каждый пассажир\n",
    "Ticket Номер билета\n",
    "Fare Цена билета\n",
    "Cabin Номер каюты\n",
    "Embarked Порт посадки\n",
    "4. Определить количество пустых ячеек\n",
    "5. *Заполнить пустые ячейки используя любую логику замещения данных\n",
    "6. Если пункт 5 не выполнен, то удалить строки имеющие пустые ячейки.\n",
    "7. По каждому признаку произвести аналитику:\n",
    "1. Количество уникальных значений\n",
    "2. Минимальное и максимальное значение\n",
    "8.*С помощью аналитики определить влияние всех признаков на признак Survived(\n",
    "выживание).\n",
    "Пример: Parch и SibSP отрицательно влияли на выживание при крушении , так как чем\n",
    "больше эти параметры тем ниже процент выживания (одиночке выжить проще).\n",
    "Результатом домашнего задания будет Таблица в Colab с комментариями в качестве\n",
    "ответов на пункты ДЗ.\n"
   ]
  },
  {
   "cell_type": "code",
   "execution_count": 1,
   "metadata": {
    "ExecuteTime": {
     "end_time": "2023-08-02T04:40:58.622774200Z",
     "start_time": "2023-08-02T04:40:58.598752600Z"
    },
    "colab": {
     "base_uri": "https://localhost:8080/"
    },
    "id": "MADeze60fFeE",
    "outputId": "22a9d3db-5511-4543-bcfe-69626c8bc05f",
    "pycharm": {
     "is_executing": true,
     "name": "#%%\n"
    }
   },
   "outputs": [],
   "source": [
    "import numpy as np\n",
    "import pandas as pd\n",
    "import matplotlib.pyplot as plt\n"
   ]
  },
  {
   "cell_type": "code",
   "execution_count": 12,
   "metadata": {
    "collapsed": false
   },
   "outputs": [
    {
     "data": {
      "text/html": [
       "<div>\n",
       "<style scoped>\n",
       "    .dataframe tbody tr th:only-of-type {\n",
       "        vertical-align: middle;\n",
       "    }\n",
       "\n",
       "    .dataframe tbody tr th {\n",
       "        vertical-align: top;\n",
       "    }\n",
       "\n",
       "    .dataframe thead th {\n",
       "        text-align: right;\n",
       "    }\n",
       "</style>\n",
       "<table border=\"1\" class=\"dataframe\">\n",
       "  <thead>\n",
       "    <tr style=\"text-align: right;\">\n",
       "      <th></th>\n",
       "      <th>PassengerId</th>\n",
       "      <th>Survived</th>\n",
       "      <th>Pclass</th>\n",
       "      <th>Name</th>\n",
       "      <th>Sex</th>\n",
       "      <th>Age</th>\n",
       "      <th>SibSp</th>\n",
       "      <th>Parch</th>\n",
       "      <th>Ticket</th>\n",
       "      <th>Fare</th>\n",
       "      <th>Cabin</th>\n",
       "      <th>Embarked</th>\n",
       "    </tr>\n",
       "  </thead>\n",
       "  <tbody>\n",
       "    <tr>\n",
       "      <th>0</th>\n",
       "      <td>1</td>\n",
       "      <td>0</td>\n",
       "      <td>3</td>\n",
       "      <td>Braund, Mr. Owen Harris</td>\n",
       "      <td>male</td>\n",
       "      <td>22.0</td>\n",
       "      <td>1</td>\n",
       "      <td>0</td>\n",
       "      <td>A/5 21171</td>\n",
       "      <td>7.2500</td>\n",
       "      <td>NaN</td>\n",
       "      <td>S</td>\n",
       "    </tr>\n",
       "    <tr>\n",
       "      <th>1</th>\n",
       "      <td>2</td>\n",
       "      <td>1</td>\n",
       "      <td>1</td>\n",
       "      <td>Cumings, Mrs. John Bradley (Florence Briggs Th...</td>\n",
       "      <td>female</td>\n",
       "      <td>38.0</td>\n",
       "      <td>1</td>\n",
       "      <td>0</td>\n",
       "      <td>PC 17599</td>\n",
       "      <td>71.2833</td>\n",
       "      <td>C85</td>\n",
       "      <td>C</td>\n",
       "    </tr>\n",
       "    <tr>\n",
       "      <th>2</th>\n",
       "      <td>3</td>\n",
       "      <td>1</td>\n",
       "      <td>3</td>\n",
       "      <td>Heikkinen, Miss. Laina</td>\n",
       "      <td>female</td>\n",
       "      <td>26.0</td>\n",
       "      <td>0</td>\n",
       "      <td>0</td>\n",
       "      <td>STON/O2. 3101282</td>\n",
       "      <td>7.9250</td>\n",
       "      <td>NaN</td>\n",
       "      <td>S</td>\n",
       "    </tr>\n",
       "    <tr>\n",
       "      <th>3</th>\n",
       "      <td>4</td>\n",
       "      <td>1</td>\n",
       "      <td>1</td>\n",
       "      <td>Futrelle, Mrs. Jacques Heath (Lily May Peel)</td>\n",
       "      <td>female</td>\n",
       "      <td>35.0</td>\n",
       "      <td>1</td>\n",
       "      <td>0</td>\n",
       "      <td>113803</td>\n",
       "      <td>53.1000</td>\n",
       "      <td>C123</td>\n",
       "      <td>S</td>\n",
       "    </tr>\n",
       "    <tr>\n",
       "      <th>4</th>\n",
       "      <td>5</td>\n",
       "      <td>0</td>\n",
       "      <td>3</td>\n",
       "      <td>Allen, Mr. William Henry</td>\n",
       "      <td>male</td>\n",
       "      <td>35.0</td>\n",
       "      <td>0</td>\n",
       "      <td>0</td>\n",
       "      <td>373450</td>\n",
       "      <td>8.0500</td>\n",
       "      <td>NaN</td>\n",
       "      <td>S</td>\n",
       "    </tr>\n",
       "  </tbody>\n",
       "</table>\n",
       "</div>"
      ],
      "text/plain": [
       "   PassengerId  Survived  Pclass  \\\n",
       "0            1         0       3   \n",
       "1            2         1       1   \n",
       "2            3         1       3   \n",
       "3            4         1       1   \n",
       "4            5         0       3   \n",
       "\n",
       "                                                Name     Sex   Age  SibSp  \\\n",
       "0                            Braund, Mr. Owen Harris    male  22.0      1   \n",
       "1  Cumings, Mrs. John Bradley (Florence Briggs Th...  female  38.0      1   \n",
       "2                             Heikkinen, Miss. Laina  female  26.0      0   \n",
       "3       Futrelle, Mrs. Jacques Heath (Lily May Peel)  female  35.0      1   \n",
       "4                           Allen, Mr. William Henry    male  35.0      0   \n",
       "\n",
       "   Parch            Ticket     Fare Cabin Embarked  \n",
       "0      0         A/5 21171   7.2500   NaN        S  \n",
       "1      0          PC 17599  71.2833   C85        C  \n",
       "2      0  STON/O2. 3101282   7.9250   NaN        S  \n",
       "3      0            113803  53.1000  C123        S  \n",
       "4      0            373450   8.0500   NaN        S  "
      ]
     },
     "execution_count": 12,
     "metadata": {},
     "output_type": "execute_result"
    }
   ],
   "source": [
    "data = pd.read_csv('titanik.csv')\n",
    "data.head()\n"
   ]
  },
  {
   "cell_type": "markdown",
   "metadata": {},
   "source": [
    "###4.Определить количество пустых ячеек\n",
    "Находим количество ячеек со значением \"Неопределено\" через функцию **isnull()**. После этого функцией **sum()** можем определить сколько пустых ячеек в каждом столбце. Повторное применение функции **sum()** просуммирует результаты по всем столбцам."
   ]
  },
  {
   "cell_type": "code",
   "execution_count": 13,
   "metadata": {},
   "outputs": [
    {
     "data": {
      "text/plain": [
       "866"
      ]
     },
     "execution_count": 13,
     "metadata": {},
     "output_type": "execute_result"
    }
   ],
   "source": [
    "data.isnull().sum().sum()\n"
   ]
  },
  {
   "cell_type": "markdown",
   "metadata": {},
   "source": [
    "###5. *Заполнить пустые ячейкии спользуя любую логику замещения данных\n",
    "\n",
    "Через функцию **fillna** заполняем все неопределенные ячейки значением *0*. Для проверки коректности работы снова проверим количество пустых ячеек. Если все сделано верно, то пустых ячеек должно остаться 0."
   ]
  },
  {
   "cell_type": "code",
   "execution_count": 14,
   "metadata": {},
   "outputs": [
    {
     "data": {
      "text/plain": [
       "0"
      ]
     },
     "execution_count": 14,
     "metadata": {},
     "output_type": "execute_result"
    }
   ],
   "source": [
    "data = data.fillna(0)\n",
    "data.isnull().sum().sum()\n"
   ]
  },
  {
   "cell_type": "markdown",
   "metadata": {},
   "source": [
    "###7.По каждому признаку произвести аналитику:\n",
    "####* Количество уникальных значений\n",
    "для выполнения этого задания есть уже готовые функции **nunique()**. Результат выводим на экран."
   ]
  },
  {
   "cell_type": "code",
   "execution_count": 16,
   "metadata": {},
   "outputs": [
    {
     "name": "stdout",
     "output_type": "stream",
     "text": [
      "PassengerId    891\n",
      "Survived         2\n",
      "Pclass           3\n",
      "Name           891\n",
      "Sex              2\n",
      "Age             89\n",
      "SibSp            7\n",
      "Parch            7\n",
      "Ticket         681\n",
      "Fare           248\n",
      "Cabin          148\n",
      "Embarked         4\n",
      "dtype: int64\n"
     ]
    }
   ],
   "source": [
    "print(data.nunique())\n"
   ]
  },
  {
   "cell_type": "markdown",
   "metadata": {},
   "source": [
    "###8.*С помощью аналитики определить влияние всех признаков на признак Survived(выживание).\n",
    "\n",
    "Столбцы **PassengerId** (ИД пасажира) **Name** (ФИО) **Ticket** (Номер билета) **Embarked** (порт посадки) логически не должны иметь влияния на выживание при крушении либо результаты и зависимости будут случайными.\n",
    "\n",
    "####Для начала проверим влияние пола пасажира на его выживание:"
   ]
  },
  {
   "cell_type": "code",
   "execution_count": 18,
   "metadata": {},
   "outputs": [
    {
     "name": "stdout",
     "output_type": "stream",
     "text": [
      "Процент выживших мужчин 18.890814558058924\n",
      "Процент выживших женщин 74.20382165605095\n"
     ]
    }
   ],
   "source": [
    "print(\"Процент выживших мужчин\", data[(data.Survived == 1) & (data.Sex == 'male')]['PassengerId'].count()/data[(data.Sex == 'male')]['PassengerId'].count() * 100)\n",
    "print(\"Процент выживших женщин\",data[(data.Survived == 1) & (data.Sex == 'female')]['PassengerId'].count()/data[(data.Sex == 'female')]['PassengerId'].count() * 100)\n"
   ]
  },
  {
   "cell_type": "markdown",
   "metadata": {},
   "source": [
    "Результат оказался вполне предсказуемым. Женщин выжило около **74%**, в то время как мужчин выжило чуть меньше **19%**"
   ]
  },
  {
   "cell_type": "code",
   "execution_count": 19,
   "metadata": {},
   "outputs": [
    {
     "data": {
      "text/html": [
       "<div>\n",
       "<style scoped>\n",
       "    .dataframe tbody tr th:only-of-type {\n",
       "        vertical-align: middle;\n",
       "    }\n",
       "\n",
       "    .dataframe tbody tr th {\n",
       "        vertical-align: top;\n",
       "    }\n",
       "\n",
       "    .dataframe thead th {\n",
       "        text-align: right;\n",
       "    }\n",
       "</style>\n",
       "<table border=\"1\" class=\"dataframe\">\n",
       "  <thead>\n",
       "    <tr style=\"text-align: right;\">\n",
       "      <th></th>\n",
       "      <th></th>\n",
       "      <th>Pclass</th>\n",
       "    </tr>\n",
       "    <tr>\n",
       "      <th>Pclass</th>\n",
       "      <th>Survived</th>\n",
       "      <th></th>\n",
       "    </tr>\n",
       "  </thead>\n",
       "  <tbody>\n",
       "    <tr>\n",
       "      <th rowspan=\"2\" valign=\"top\">1</th>\n",
       "      <th>0</th>\n",
       "      <td>80</td>\n",
       "    </tr>\n",
       "    <tr>\n",
       "      <th>1</th>\n",
       "      <td>136</td>\n",
       "    </tr>\n",
       "    <tr>\n",
       "      <th rowspan=\"2\" valign=\"top\">2</th>\n",
       "      <th>0</th>\n",
       "      <td>97</td>\n",
       "    </tr>\n",
       "    <tr>\n",
       "      <th>1</th>\n",
       "      <td>87</td>\n",
       "    </tr>\n",
       "    <tr>\n",
       "      <th>3</th>\n",
       "      <th>0</th>\n",
       "      <td>372</td>\n",
       "    </tr>\n",
       "  </tbody>\n",
       "</table>\n",
       "</div>"
      ],
      "text/plain": [
       "                 Pclass\n",
       "Pclass Survived        \n",
       "1      0             80\n",
       "       1            136\n",
       "2      0             97\n",
       "       1             87\n",
       "3      0            372"
      ]
     },
     "execution_count": 19,
     "metadata": {},
     "output_type": "execute_result"
    }
   ],
   "source": [
    "data[['Pclass','Survived']].groupby(by=['Pclass','Survived']).agg({'Pclass':'count'}).head()\n"
   ]
  },
  {
   "cell_type": "code",
   "execution_count": 20,
   "metadata": {},
   "outputs": [
    {
     "name": "stdout",
     "output_type": "stream",
     "text": [
      "Процент выживших пассажиров 1го класса - 62.96296296296296\n",
      "Процент выживших пассажиров 2го класса - 47.28260869565217\n",
      "Процент выживших пассажиров 3го класса - 24.236252545824847\n"
     ]
    }
   ],
   "source": [
    "print(f\"Процент выживших пассажиров 1го класса - {data[(data.Pclass == 1) & (data.Survived == 1)]['PassengerId'].count()/data[(data.Pclass == 1)]['PassengerId'].count()*100}\")\n",
    "print(f\"Процент выживших пассажиров 2го класса - {data[(data.Pclass == 2) & (data.Survived == 1)]['PassengerId'].count()/data[(data.Pclass == 2)]['PassengerId'].count()*100}\")\n",
    "print(f\"Процент выживших пассажиров 3го класса - {data[(data.Pclass == 3) & (data.Survived == 1)]['PassengerId'].count()/data[(data.Pclass == 3)]['PassengerId'].count()*100}\")\n"
   ]
  },
  {
   "cell_type": "markdown",
   "metadata": {},
   "source": [
    "Результат анализа шансов выжить в зависимости от класса пассажира так же оказался вполне ожидаемым:\n",
    "* 1й класс 62%\n",
    "* 2й класс 47%\n",
    "* 3й класс 24%\n",
    "\n",
    "Ради интереса можем проверить шансы выжить женщине из первого класса."
   ]
  },
  {
   "cell_type": "code",
   "execution_count": 21,
   "metadata": {},
   "outputs": [
    {
     "name": "stdout",
     "output_type": "stream",
     "text": [
      "Процент выживших пассажиров женщин 1го класса - 96.80851063829788\n"
     ]
    }
   ],
   "source": [
    "print(f\"Процент выживших пассажиров женщин 1го класса - {data[(data.Pclass == 1) & (data.Survived == 1) & (data.Sex == 'female')]['PassengerId'].count()/data[(data.Pclass == 1) & (data.Sex == 'female')]['PassengerId'].count()*100}\")\n"
   ]
  },
  {
   "cell_type": "markdown",
   "metadata": {},
   "source": [
    "В данном случае результат более чем предсказуем. Женщины из первого класса выжили почти все."
   ]
  }
 ],
 "metadata": {
  "colab": {
   "provenance": []
  },
  "kernelspec": {
   "display_name": "Python 3 (ipykernel)",
   "language": "python",
   "name": "python3"
  },
  "language_info": {
   "codemirror_mode": {
    "name": "ipython",
    "version": 3
   },
   "file_extension": ".py",
   "mimetype": "text/x-python",
   "name": "python",
   "nbconvert_exporter": "python",
   "pygments_lexer": "ipython3",
   "version": "3.11.4"
  }
 },
 "nbformat": 4,
 "nbformat_minor": 0
}
